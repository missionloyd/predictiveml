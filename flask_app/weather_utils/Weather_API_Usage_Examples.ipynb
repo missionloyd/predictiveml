{
 "cells": [
  {
   "cell_type": "code",
   "execution_count": 1,
   "metadata": {},
   "outputs": [
    {
     "name": "stdout",
     "output_type": "stream",
     "text": [
      ":: --- Local time zone: America/Denver\n",
      ":: --- Local time 2023-04-27T01:00 => UTC string: 2023042707\n",
      ":: --- Time difference between UTC and local: -6 hours\n",
      ":: --- Query weather data @ GPS[(41.31340229526635, -105.58116432977742))-(2192.952880859)] @ open-meteo.com.\n",
      "{'forecast': True, 'time_UTC': '2023-04-27T07:00', 'time_local': '2023-04-27T01:00', 'temp_C': 2.2, 'rel_humidity_%': 63, 'surface_pressure_hPa': 779.6, 'cloud_cover_%': 0, 'direct_radiation_W/m2': 0.0, 'precipitation_mm': 0.0, 'wind_speed_ground_Km/h': 8.9, 'wind_dir_ground_deg': 207}\n",
      ":: --- Query weather data @ GPS[(41.31340229526635, -105.58116432977742))-(2192.952880859)] @ open-meteo.com.\n",
      "{'forecast': True, 'time_UTC': ['2023-04-27T00:00', '2023-04-27T01:00', '2023-04-27T02:00', '2023-04-27T03:00', '2023-04-27T04:00', '2023-04-27T05:00', '2023-04-27T06:00', '2023-04-27T07:00', '2023-04-27T08:00', '2023-04-27T09:00', '2023-04-27T10:00', '2023-04-27T11:00', '2023-04-27T12:00', '2023-04-27T13:00', '2023-04-27T14:00', '2023-04-27T15:00', '2023-04-27T16:00', '2023-04-27T17:00', '2023-04-27T18:00', '2023-04-27T19:00', '2023-04-27T20:00', '2023-04-27T21:00', '2023-04-27T22:00', '2023-04-27T23:00'], 'time_local': ['2023-04-26T18:00', '2023-04-26T19:00', '2023-04-26T20:00', '2023-04-26T21:00', '2023-04-26T22:00', '2023-04-26T23:00', '2023-04-27T00:00', '2023-04-27T01:00', '2023-04-27T02:00', '2023-04-27T03:00', '2023-04-27T04:00', '2023-04-27T05:00', '2023-04-27T06:00', '2023-04-27T07:00', '2023-04-27T08:00', '2023-04-27T09:00', '2023-04-27T10:00', '2023-04-27T11:00', '2023-04-27T12:00', '2023-04-27T13:00', '2023-04-27T14:00', '2023-04-27T15:00', '2023-04-27T16:00', '2023-04-27T17:00'], 'temp_C': [12.1, 11.4, 8.9, 6.5, 4.8, 3.8, 2.8, 2.2, 2.3, 1.7, 1.7, 2.0, 1.6, 2.1, 6.9, 9.3, 10.6, 9.4, 9.9, 11.3, 12.4, 12.9, 9.7, 8.1], 'rel_humidity_%': [34, 33, 37, 43, 49, 54, 60, 63, 67, 66, 63, 60, 61, 61, 45, 38, 34, 36, 42, 33, 31, 24, 51, 57], 'surface_pressure_hPa': [779.7, 780.1, 780.4, 780.3, 780.6, 780.4, 780.0, 779.6, 779.1, 778.7, 778.4, 777.9, 778.4, 778.9, 778.1, 777.1, 777.0, 777.6, 777.2, 776.3, 775.4, 774.5, 774.9, 773.8], 'cloud_cover_%': [44, 100, 38, 13, 40, 9, 0, 0, 8, 5, 34, 6, 1, 0, 0, 43, 57, 100, 100, 100, 100, 100, 100, 98], 'direct_radiation_W/m2': [1.0, 31.0, 0.0, 0.0, 0.0, 0.0, 0.0, 0.0, 0.0, 0.0, 0.0, 0.0, 0.0, 71.0, 249.0, 402.0, 322.0, 0.0, 121.0, 199.0, 339.0, 0.0, 543.0, 21.0], 'precipitation_mm': [0.0, 0.0, 0.0, 0.0, 0.0, 0.0, 0.0, 0.0, 0.0, 0.0, 0.0, 0.0, 0.0, 0.0, 0.0, 0.0, 0.0, 0.0, 0.0, 0.0, 0.0, 0.0, 0.0, 0.0], 'wind_speed_ground_Km/h': [19.8, 21.2, 12.0, 6.9, 2.9, 9.4, 8.2, 8.9, 10.4, 7.4, 10.8, 8.2, 9.9, 7.6, 20.2, 27.8, 30.8, 38.3, 40.8, 41.7, 39.3, 37.9, 35.9, 42.5], 'wind_dir_ground_deg': [333, 328, 316, 317, 83, 178, 203, 207, 200, 133, 150, 151, 123, 135, 292, 307, 313, 311, 306, 304, 297, 299, 353, 358]}\n"
     ]
    }
   ],
   "source": [
    "# This script demonstrates how to use the weather data API\n",
    "\n",
    "# UW Coordinate (Prexy's Pasture): 41.31340229526635, -105.58116432977742\n",
    "\n",
    "lat = 41.31340229526635\n",
    "lng = -105.58116432977742\n",
    "\n",
    "from timezonefinder import TimezoneFinder\n",
    "from get_weather_data_at_location_and_hour import *\n",
    "\n",
    "tf = TimezoneFinder()\n",
    "local_time_zone_str = tf.timezone_at(lng=lng, lat=lat)\n",
    "\n",
    "local_time_str = '2023-04-27T01:00'\n",
    "\n",
    "utc_time_str, timezone_diff_hrs = local_time_to_utc_str(local_time_str, local_time_zone_str)\n",
    "\n",
    "# Get the elevation at the given latitude and longitude\n",
    "elevation_meters = get_elevation_online(lat, lng)\n",
    "\n",
    "print(f':: --- Local time {local_time_str} => UTC string: {utc_time_str}')\n",
    "print(f':: --- Local time zone: {local_time_zone_str}')\n",
    "print(f':: --- Time difference between UTC and local: {timezone_diff_hrs} hours')\n",
    "\n",
    "# Get weather data for the given latitude, longitude, and altitude\n",
    "get_24hour_data = False # Get weather data for the specified local hour\n",
    "weather_data_dict = get_weather_data_at_location_and_hour(lat, lng, elevation_meters, utc_time_str, timezone_diff_hrs, get_24hour_data)\n",
    "print(weather_data_dict)\n",
    "\n",
    "get_24hour_data = True # Get weather data for the 24-hour day (UTC time)\n",
    "weather_data_dict = get_weather_data_at_location_and_hour(lat, lng, elevation_meters, utc_time_str, timezone_diff_hrs, get_24hour_data)\n",
    "print(weather_data_dict)\n"
   ]
  },
  {
   "cell_type": "code",
   "execution_count": null,
   "metadata": {},
   "outputs": [],
   "source": []
  }
 ],
 "metadata": {
  "kernelspec": {
   "display_name": "base",
   "language": "python",
   "name": "python3"
  },
  "language_info": {
   "codemirror_mode": {
    "name": "ipython",
    "version": 3
   },
   "file_extension": ".py",
   "mimetype": "text/x-python",
   "name": "python",
   "nbconvert_exporter": "python",
   "pygments_lexer": "ipython3",
   "version": "3.10.10"
  },
  "orig_nbformat": 4
 },
 "nbformat": 4,
 "nbformat_minor": 2
}
