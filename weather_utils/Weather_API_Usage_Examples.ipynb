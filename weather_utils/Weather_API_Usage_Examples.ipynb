{
 "cells": [
  {
   "cell_type": "code",
   "execution_count": 1,
   "metadata": {},
   "outputs": [
    {
     "name": "stdout",
     "output_type": "stream",
     "text": [
      ":: --- Query weather data @ GPS[(41.31340229526635, -105.58116432977742))-(2192.952880859)] @ open-meteo.com.\n",
      ":: --- Local time 2023-04-22 12:00 => UTC string: 2023042218\n",
      "{'temp': -0.5, 'rel_humidity': 64, 'wind_speed_ground': 9.7, 'wind_speed_air': 11.2, 'wind_dir_air': -10}\n"
     ]
    }
   ],
   "source": [
    "# UW Coordinate (Prexy's Pasture): 41.31340229526635, -105.58116432977742\n",
    "\n",
    "lat = 41.31340229526635\n",
    "lng = -105.58116432977742\n",
    "\n",
    "from get_weather_data_at_location_and_hour import *\n",
    "\n",
    "local_time_str = '2023-04-22 12:00'\n",
    "local_time_zone = 'America/Denver'\n",
    "\n",
    "utc_time_str = local_time_to_utc_str(local_time_str, local_time_zone)\n",
    "\n",
    "# Get the elevation at the given latitude and longitude\n",
    "elevation_meters = get_elevation_online(lat, lng)\n",
    "\n",
    "# Get weather data for the given latitude, longitude, and altitude\n",
    "weather_data_dict = get_weather_data_at_location_and_hour(lat, lng, elevation_meters, utc_time_str)\n",
    "\n",
    "print(f':: --- Local time {local_time_str} => UTC string: {utc_time_str}')\n",
    "print(weather_data_dict)\n"
   ]
  },
  {
   "cell_type": "code",
   "execution_count": null,
   "metadata": {},
   "outputs": [],
   "source": []
  }
 ],
 "metadata": {
  "kernelspec": {
   "display_name": "base",
   "language": "python",
   "name": "python3"
  },
  "language_info": {
   "codemirror_mode": {
    "name": "ipython",
    "version": 3
   },
   "file_extension": ".py",
   "mimetype": "text/x-python",
   "name": "python",
   "nbconvert_exporter": "python",
   "pygments_lexer": "ipython3",
   "version": "3.10.10"
  },
  "orig_nbformat": 4
 },
 "nbformat": 4,
 "nbformat_minor": 2
}
