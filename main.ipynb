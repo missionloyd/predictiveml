{
 "cells": [
  {
   "cell_type": "code",
   "execution_count": null,
   "metadata": {},
   "outputs": [],
   "source": [
    "import sys, time\n",
    "arcc_path = '/home/lmacy1/predictiveml'\n",
    "sys.path.append(arcc_path)\n",
    "\n",
    "from config import load_config\n",
    "from modules.utils.create_args import create_args\n",
    "from modules.utils.process_batch_args import process_batch_args\n",
    "from modules.preprocessing_methods.main import preprocessing\n",
    "from modules.utils.match_args import match_args\n",
    "from modules.training_methods.main import train_model\n",
    "from modules.utils.save_results import save_results\n",
    "from modules.utils.calculate_duration import calculate_duration"
   ]
  },
  {
   "cell_type": "code",
   "execution_count": null,
   "metadata": {},
   "outputs": [],
   "source": [
    "if __name__ == '__main__':\n",
    "  start_time = time.time()\n",
    "\n",
    "  config = load_config()\n",
    "\n",
    "  path = config['path']\n",
    "  results_header = config['results_header']\n",
    "  batch_size = config['batch_size']\n",
    "\n",
    "  # Generate a list of arguments for model training\n",
    "  args, preprocess_args = create_args(config)\n",
    "\n",
    "  # fill in missing gaps in each y_column, add each updated column as an argument \n",
    "  processed_args = process_batch_args(preprocess_args, batch_size, preprocessing)\n",
    "\n",
    "  # match processed columns with original argument combinations\n",
    "  updated_args = match_args(args, processed_args)\n",
    "  \n",
    "  # Execute the training function in parallel for each batch of arguments\n",
    "  results = process_batch_args(updated_args, batch_size, train_model)\n",
    "\n",
    "  # Convert the results to a set to remove any duplicates\n",
    "  unique_results = set(results)\n",
    "\n",
    "  # Save the results to the CSV file\n",
    "  save_results(path, results_header, unique_results)\n",
    "\n",
    "  # calculate duration of script\n",
    "  duration = calculate_duration(start_time)\n",
    "\n",
    "  print(f\"Success... Time elapsed: {duration} hours.\")"
   ]
  }
 ],
 "metadata": {
  "kernelspec": {
   "display_name": "Python 3",
   "language": "python",
   "name": "python3"
  },
  "language_info": {
   "codemirror_mode": {
    "name": "ipython",
    "version": 3
   },
   "file_extension": ".py",
   "mimetype": "text/x-python",
   "name": "python",
   "nbconvert_exporter": "python",
   "pygments_lexer": "ipython3",
   "version": "3.9.16"
  },
  "orig_nbformat": 4
 },
 "nbformat": 4,
 "nbformat_minor": 2
}
